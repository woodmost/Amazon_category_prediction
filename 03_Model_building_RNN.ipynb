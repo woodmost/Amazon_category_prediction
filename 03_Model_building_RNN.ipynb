{
 "cells": [
  {
   "cell_type": "code",
   "execution_count": 1,
   "id": "be8b8f05",
   "metadata": {
    "ExecuteTime": {
     "end_time": "2023-01-21T16:44:58.662650Z",
     "start_time": "2023-01-21T16:44:51.777907Z"
    }
   },
   "outputs": [],
   "source": [
    "import warnings\n",
    "warnings.filterwarnings('ignore')\n",
    "\n",
    "import numpy as np\n",
    "import pandas as pd\n",
    "import tensorflow as ts\n",
    "import matplotlib.pyplot as plt\n",
    "import pickle\n",
    "\n",
    "from sklearn.model_selection import train_test_split\n",
    "\n",
    "from tensorflow.keras.preprocessing.text import Tokenizer\n",
    "from tensorflow.keras.preprocessing.sequence import pad_sequences\n",
    "from tensorflow.keras.models import Sequential\n",
    "from tensorflow.keras.layers import Dense,Embedding,RNN,SimpleRNN\n"
   ]
  },
  {
   "cell_type": "code",
   "execution_count": 2,
   "id": "885c83b4",
   "metadata": {
    "ExecuteTime": {
     "end_time": "2023-01-21T16:45:00.089372Z",
     "start_time": "2023-01-21T16:44:58.667287Z"
    }
   },
   "outputs": [
    {
     "data": {
      "text/html": [
       "<div>\n",
       "<style scoped>\n",
       "    .dataframe tbody tr th:only-of-type {\n",
       "        vertical-align: middle;\n",
       "    }\n",
       "\n",
       "    .dataframe tbody tr th {\n",
       "        vertical-align: top;\n",
       "    }\n",
       "\n",
       "    .dataframe thead th {\n",
       "        text-align: right;\n",
       "    }\n",
       "</style>\n",
       "<table border=\"1\" class=\"dataframe\">\n",
       "  <thead>\n",
       "    <tr style=\"text-align: right;\">\n",
       "      <th></th>\n",
       "      <th>clean_text</th>\n",
       "      <th>Label</th>\n",
       "    </tr>\n",
       "  </thead>\n",
       "  <tbody>\n",
       "    <tr>\n",
       "      <th>0</th>\n",
       "      <td>oily creamy expected ordered try highlight con...</td>\n",
       "      <td>0</td>\n",
       "    </tr>\n",
       "    <tr>\n",
       "      <th>1</th>\n",
       "      <td>palette decent price looking different shades ...</td>\n",
       "      <td>0</td>\n",
       "    </tr>\n",
       "    <tr>\n",
       "      <th>2</th>\n",
       "      <td>texture concealer pallet fantastic great cover...</td>\n",
       "      <td>0</td>\n",
       "    </tr>\n",
       "    <tr>\n",
       "      <th>3</th>\n",
       "      <td>really tell exactly thing powder kind oil ish ...</td>\n",
       "      <td>0</td>\n",
       "    </tr>\n",
       "    <tr>\n",
       "      <th>4</th>\n",
       "      <td>little smaller expected okay lasted long time ...</td>\n",
       "      <td>0</td>\n",
       "    </tr>\n",
       "  </tbody>\n",
       "</table>\n",
       "</div>"
      ],
      "text/plain": [
       "                                          clean_text  Label\n",
       "0  oily creamy expected ordered try highlight con...      0\n",
       "1  palette decent price looking different shades ...      0\n",
       "2  texture concealer pallet fantastic great cover...      0\n",
       "3  really tell exactly thing powder kind oil ish ...      0\n",
       "4  little smaller expected okay lasted long time ...      0"
      ]
     },
     "execution_count": 2,
     "metadata": {},
     "output_type": "execute_result"
    }
   ],
   "source": [
    "df = pd.read_csv('Clean_data.csv',index_col=0)\n",
    "df.head()"
   ]
  },
  {
   "cell_type": "code",
   "execution_count": 3,
   "id": "43c50f1d",
   "metadata": {
    "ExecuteTime": {
     "end_time": "2023-01-21T16:45:00.226930Z",
     "start_time": "2023-01-21T16:45:00.092814Z"
    }
   },
   "outputs": [],
   "source": [
    "df['clean_text'] = df['clean_text'].apply(lambda x : str(x))"
   ]
  },
  {
   "cell_type": "code",
   "execution_count": 4,
   "id": "a09d3454",
   "metadata": {
    "ExecuteTime": {
     "end_time": "2023-01-21T16:45:00.314585Z",
     "start_time": "2023-01-21T16:45:00.230922Z"
    }
   },
   "outputs": [],
   "source": [
    "x = df['clean_text']\n",
    "y = df['Label']"
   ]
  },
  {
   "cell_type": "code",
   "execution_count": 5,
   "id": "f2a3815a",
   "metadata": {
    "ExecuteTime": {
     "end_time": "2023-01-21T16:45:00.503521Z",
     "start_time": "2023-01-21T16:45:00.319573Z"
    }
   },
   "outputs": [],
   "source": [
    "x_train,x_test,y_train,y_test = train_test_split(x,y,test_size=0.2,random_state=5)"
   ]
  },
  {
   "cell_type": "markdown",
   "id": "70105e50",
   "metadata": {},
   "source": [
    "# Tokenization"
   ]
  },
  {
   "cell_type": "code",
   "execution_count": 6,
   "id": "8a66e04e",
   "metadata": {
    "ExecuteTime": {
     "end_time": "2023-01-21T16:45:00.597014Z",
     "start_time": "2023-01-21T16:45:00.506411Z"
    }
   },
   "outputs": [],
   "source": [
    "tok = Tokenizer(oov_token= '<unk>')"
   ]
  },
  {
   "cell_type": "code",
   "execution_count": 7,
   "id": "f98dddbd",
   "metadata": {
    "ExecuteTime": {
     "end_time": "2023-01-21T16:45:00.740229Z",
     "start_time": "2023-01-21T16:45:00.601004Z"
    }
   },
   "outputs": [],
   "source": [
    "#We fit only on training data and transform on testing data"
   ]
  },
  {
   "cell_type": "code",
   "execution_count": 8,
   "id": "adce74e3",
   "metadata": {
    "ExecuteTime": {
     "end_time": "2023-01-21T16:45:10.872670Z",
     "start_time": "2023-01-21T16:45:00.743489Z"
    }
   },
   "outputs": [],
   "source": [
    "#fitting on training data\n",
    "tok.fit_on_texts(x_train)"
   ]
  },
  {
   "cell_type": "code",
   "execution_count": 9,
   "id": "97cee12e",
   "metadata": {
    "ExecuteTime": {
     "end_time": "2023-01-21T16:45:10.900360Z",
     "start_time": "2023-01-21T16:45:10.877963Z"
    }
   },
   "outputs": [
    {
     "data": {
      "text/plain": [
       "99369"
      ]
     },
     "execution_count": 9,
     "metadata": {},
     "output_type": "execute_result"
    }
   ],
   "source": [
    "len(tok.word_index)"
   ]
  },
  {
   "cell_type": "code",
   "execution_count": 10,
   "id": "6c382893",
   "metadata": {
    "ExecuteTime": {
     "end_time": "2023-01-21T16:45:19.572763Z",
     "start_time": "2023-01-21T16:45:10.903763Z"
    }
   },
   "outputs": [],
   "source": [
    "train_sequences = tok.texts_to_sequences(x_train)\n",
    "test_sequences = tok.texts_to_sequences(x_test)"
   ]
  },
  {
   "cell_type": "code",
   "execution_count": 11,
   "id": "0e414ced",
   "metadata": {
    "ExecuteTime": {
     "end_time": "2023-01-21T16:45:19.691675Z",
     "start_time": "2023-01-21T16:45:19.572763Z"
    }
   },
   "outputs": [],
   "source": [
    "with open('filename.pickle','wb')as handle:\n",
    "    pickle.dump(tok,handle,protocol=pickle.HIGHEST_PROTOCOL)"
   ]
  },
  {
   "cell_type": "markdown",
   "id": "fd75d3eb",
   "metadata": {},
   "source": [
    "## Padding"
   ]
  },
  {
   "cell_type": "code",
   "execution_count": 12,
   "id": "1f87b221",
   "metadata": {
    "ExecuteTime": {
     "end_time": "2023-01-21T16:45:21.078807Z",
     "start_time": "2023-01-21T16:45:19.694325Z"
    }
   },
   "outputs": [
    {
     "data": {
      "text/plain": [
       "(array([77860., 78817., 41276., 23841., 14107.,  8816.,  5736.,  3758.,\n",
       "         2619.,  1945.]),\n",
       " array([  0.,  20.,  40.,  60.,  80., 100., 120., 140., 160., 180., 200.]),\n",
       " <BarContainer object of 10 artists>)"
      ]
     },
     "execution_count": 12,
     "metadata": {},
     "output_type": "execute_result"
    },
    {
     "data": {
      "image/png": "[encoded data removed]",
      "text/plain": [
       "<Figure size 640x480 with 1 Axes>"
      ]
     },
     "metadata": {},
     "output_type": "display_data"
    }
   ],
   "source": [
    "plt.hist(df['clean_text'].apply(lambda x : len(x.split())),range = (0,200))"
   ]
  },
  {
   "cell_type": "code",
   "execution_count": 13,
   "id": "4b646ae2",
   "metadata": {
    "ExecuteTime": {
     "end_time": "2023-01-21T16:45:22.394070Z",
     "start_time": "2023-01-21T16:45:21.078807Z"
    }
   },
   "outputs": [],
   "source": [
    "x_train = pad_sequences(train_sequences,maxlen=100,padding='pre',truncating='pre')\n",
    "x_test = pad_sequences(test_sequences,maxlen=100,padding='pre',truncating='pre')"
   ]
  },
  {
   "cell_type": "markdown",
   "id": "8a1cc3eb",
   "metadata": {},
   "source": [
    "# Model building"
   ]
  },
  {
   "cell_type": "code",
   "execution_count": 26,
   "id": "0e01268d",
   "metadata": {
    "ExecuteTime": {
     "end_time": "2023-01-21T17:02:32.820776Z",
     "start_time": "2023-01-21T17:02:32.050012Z"
    }
   },
   "outputs": [],
   "source": [
    "model = Sequential([\n",
    "    Embedding(99370,300),\n",
    "    SimpleRNN(128),\n",
    "    Dense(100,activation='relu'),\n",
    "    Dense(6,activation='softmax')    \n",
    "])"
   ]
  },
  {
   "cell_type": "code",
   "execution_count": 27,
   "id": "13b01c31",
   "metadata": {
    "ExecuteTime": {
     "end_time": "2023-01-21T17:02:32.916576Z",
     "start_time": "2023-01-21T17:02:32.830324Z"
    }
   },
   "outputs": [
    {
     "name": "stdout",
     "output_type": "stream",
     "text": [
      "Model: \"sequential_3\"\n",
      "_________________________________________________________________\n",
      " Layer (type)                Output Shape              Param #   \n",
      "=================================================================\n",
      " embedding_3 (Embedding)     (None, None, 300)         29811000  \n",
      "                                                                 \n",
      " simple_rnn_3 (SimpleRNN)    (None, 128)               54912     \n",
      "                                                                 \n",
      " dense_6 (Dense)             (None, 100)               12900     \n",
      "                                                                 \n",
      " dense_7 (Dense)             (None, 6)                 606       \n",
      "                                                                 \n",
      "=================================================================\n",
      "Total params: 29,879,418\n",
      "Trainable params: 29,879,418\n",
      "Non-trainable params: 0\n",
      "_________________________________________________________________\n"
     ]
    }
   ],
   "source": [
    "model.summary()"
   ]
  },
  {
   "cell_type": "code",
   "execution_count": 28,
   "id": "472b3ec9",
   "metadata": {
    "ExecuteTime": {
     "end_time": "2023-01-21T17:02:33.863408Z",
     "start_time": "2023-01-21T17:02:33.842500Z"
    }
   },
   "outputs": [],
   "source": [
    "model.compile(optimizer='adam',loss='SparseCategoricalCrossentropy',metrics=['accuracy'])"
   ]
  },
  {
   "cell_type": "code",
   "execution_count": 29,
   "id": "58108281",
   "metadata": {
    "ExecuteTime": {
     "end_time": "2023-01-21T18:26:07.989962Z",
     "start_time": "2023-01-21T17:02:34.586239Z"
    }
   },
   "outputs": [
    {
     "name": "stdout",
     "output_type": "stream",
     "text": [
      "Epoch 1/10\n",
      "424/424 [==============================] - 514s 1s/step - loss: 0.5744 - accuracy: 0.7788 - val_loss: 0.2377 - val_accuracy: 0.9287\n",
      "Epoch 2/10\n",
      "424/424 [==============================] - 528s 1s/step - loss: 0.2093 - accuracy: 0.9371 - val_loss: 0.2317 - val_accuracy: 0.9319\n",
      "Epoch 3/10\n",
      "424/424 [==============================] - 519s 1s/step - loss: 0.1549 - accuracy: 0.9542 - val_loss: 0.1938 - val_accuracy: 0.9417\n",
      "Epoch 4/10\n",
      "424/424 [==============================] - 518s 1s/step - loss: 0.1250 - accuracy: 0.9620 - val_loss: 0.2157 - val_accuracy: 0.9335\n",
      "Epoch 5/10\n",
      "424/424 [==============================] - 510s 1s/step - loss: 0.0885 - accuracy: 0.9736 - val_loss: 0.2179 - val_accuracy: 0.9369\n",
      "Epoch 6/10\n",
      "424/424 [==============================] - 500s 1s/step - loss: 0.0879 - accuracy: 0.9733 - val_loss: 0.2508 - val_accuracy: 0.9363\n",
      "Epoch 7/10\n",
      "424/424 [==============================] - 480s 1s/step - loss: 0.0665 - accuracy: 0.9801 - val_loss: 0.2387 - val_accuracy: 0.9384\n",
      "Epoch 8/10\n",
      "424/424 [==============================] - 482s 1s/step - loss: 0.0563 - accuracy: 0.9829 - val_loss: 0.2506 - val_accuracy: 0.9404\n",
      "Epoch 9/10\n",
      "424/424 [==============================] - 482s 1s/step - loss: 0.0488 - accuracy: 0.9855 - val_loss: 0.2701 - val_accuracy: 0.9367\n",
      "Epoch 10/10\n",
      "424/424 [==============================] - 480s 1s/step - loss: 0.0755 - accuracy: 0.9771 - val_loss: 0.3084 - val_accuracy: 0.9201\n"
     ]
    }
   ],
   "source": [
    "history = model.fit(x_train,y_train,batch_size=500,epochs=10,validation_data=(x_test,y_test))"
   ]
  },
  {
   "cell_type": "code",
   "execution_count": 30,
   "id": "93cb18df",
   "metadata": {
    "ExecuteTime": {
     "end_time": "2023-01-21T18:35:00.039503Z",
     "start_time": "2023-01-21T18:34:59.545110Z"
    }
   },
   "outputs": [
    {
     "data": {
      "text/plain": [
       "<matplotlib.legend.Legend at 0x23603111e80>"
      ]
     },
     "execution_count": 30,
     "metadata": {},
     "output_type": "execute_result"
    },
    {
     "data": {
      "image/png": "[encoded data removed]",
      "text/plain": [
       "<Figure size 640x480 with 1 Axes>"
      ]
     },
     "metadata": {},
     "output_type": "display_data"
    }
   ],
   "source": [
    "plt.plot(history.history['loss'])\n",
    "plt.plot(history.history['val_loss'])\n",
    "plt.xlabel('Epochs')\n",
    "plt.ylabel('loss')\n",
    "plt.title('loss Plot')\n",
    "plt.legend(['train','test'])"
   ]
  },
  {
   "cell_type": "code",
   "execution_count": 31,
   "id": "22db116b",
   "metadata": {
    "ExecuteTime": {
     "end_time": "2023-01-21T18:35:15.306639Z",
     "start_time": "2023-01-21T18:35:14.955934Z"
    }
   },
   "outputs": [
    {
     "data": {
      "text/plain": [
       "<matplotlib.legend.Legend at 0x23603082100>"
      ]
     },
     "execution_count": 31,
     "metadata": {},
     "output_type": "execute_result"
    },
    {
     "data": {
      "image/png": "[encoded data removed]",
      "text/plain": [
       "<Figure size 640x480 with 1 Axes>"
      ]
     },
     "metadata": {},
     "output_type": "display_data"
    }
   ],
   "source": [
    "plt.plot(history.history['accuracy'])\n",
    "plt.plot(history.history['val_accuracy'])\n",
    "plt.xlabel('Epochs')\n",
    "plt.ylabel('accuracy')\n",
    "plt.title('accuracy Plot')\n",
    "plt.legend(['train','test'])"
   ]
  },
  {
   "cell_type": "code",
   "execution_count": null,
   "id": "ea3dda9c",
   "metadata": {},
   "outputs": [],
   "source": []
  }
 ],
 "metadata": {
  "kernelspec": {
   "display_name": "Python 3 (ipykernel)",
   "language": "python",
   "name": "python3"
  },
  "language_info": {
   "codemirror_mode": {
    "name": "ipython",
    "version": 3
   },
   "file_extension": ".py",
   "mimetype": "text/x-python",
   "name": "python",
   "nbconvert_exporter": "python",
   "pygments_lexer": "ipython3",
   "version": "3.9.13"
  }
 },
 "nbformat": 4,
 "nbformat_minor": 5
}
