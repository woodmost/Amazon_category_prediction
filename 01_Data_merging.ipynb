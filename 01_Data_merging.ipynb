{
 "cells": [
  {
   "cell_type": "code",
   "execution_count": 1,
   "id": "24ae0966",
   "metadata": {
    "ExecuteTime": {
     "end_time": "2023-01-21T16:32:04.334034Z",
     "start_time": "2023-01-21T16:32:03.591097Z"
    }
   },
   "outputs": [],
   "source": [
    "import pandas as pd\n",
    "import gzip\n",
    "\n"
   ]
  },
  {
   "cell_type": "code",
   "execution_count": 2,
   "id": "f08db511",
   "metadata": {
    "ExecuteTime": {
     "end_time": "2023-01-21T16:32:31.903871Z",
     "start_time": "2023-01-21T16:32:04.341871Z"
    }
   },
   "outputs": [
    {
     "data": {
      "text/html": [
       "<div>\n",
       "<style scoped>\n",
       "    .dataframe tbody tr th:only-of-type {\n",
       "        vertical-align: middle;\n",
       "    }\n",
       "\n",
       "    .dataframe tbody tr th {\n",
       "        vertical-align: top;\n",
       "    }\n",
       "\n",
       "    .dataframe thead th {\n",
       "        text-align: right;\n",
       "    }\n",
       "</style>\n",
       "<table border=\"1\" class=\"dataframe\">\n",
       "  <thead>\n",
       "    <tr style=\"text-align: right;\">\n",
       "      <th></th>\n",
       "      <th>reviewText</th>\n",
       "      <th>Label</th>\n",
       "    </tr>\n",
       "  </thead>\n",
       "  <tbody>\n",
       "    <tr>\n",
       "      <th>0</th>\n",
       "      <td>I purchased the Trilogy with hoping my two cat...</td>\n",
       "      <td>4</td>\n",
       "    </tr>\n",
       "    <tr>\n",
       "      <th>1</th>\n",
       "      <td>There are usually one or more of my cats watch...</td>\n",
       "      <td>4</td>\n",
       "    </tr>\n",
       "    <tr>\n",
       "      <th>2</th>\n",
       "      <td>I bought the triliogy and have tested out all ...</td>\n",
       "      <td>4</td>\n",
       "    </tr>\n",
       "    <tr>\n",
       "      <th>3</th>\n",
       "      <td>My female kitty could care less about these vi...</td>\n",
       "      <td>4</td>\n",
       "    </tr>\n",
       "    <tr>\n",
       "      <th>4</th>\n",
       "      <td>If I had gotten just volume two, I would have ...</td>\n",
       "      <td>4</td>\n",
       "    </tr>\n",
       "  </tbody>\n",
       "</table>\n",
       "</div>"
      ],
      "text/plain": [
       "                                          reviewText  Label\n",
       "0  I purchased the Trilogy with hoping my two cat...      4\n",
       "1  There are usually one or more of my cats watch...      4\n",
       "2  I bought the triliogy and have tested out all ...      4\n",
       "3  My female kitty could care less about these vi...      4\n",
       "4  If I had gotten just volume two, I would have ...      4"
      ]
     },
     "execution_count": 2,
     "metadata": {},
     "output_type": "execute_result"
    }
   ],
   "source": [
    "beauty_df = pd.read_json('Beauty_5.json',lines = True)\n",
    "beauty_df['Label'] = 0   #0 stands for beauty\n",
    "beauty_df = beauty_df[['reviewText','Label']]\n",
    "beauty_df.head()\n",
    "\n",
    "groc_df = pd.read_json('Grocery_and_Gourmet_Food_5.json',lines=True)\n",
    "groc_df['Label'] = 1\n",
    "groc_df = groc_df[['reviewText','Label']]\n",
    "groc_df.head()\n",
    "\n",
    "home_df = pd.read_json('Home_and_Kitchen_5.json',lines=True)\n",
    "home_df['Label'] = 2\n",
    "home_df = home_df[['reviewText','Label']]\n",
    "home_df.head()\n",
    "\n",
    "off_df = pd.read_json('Office_Products_5.json',lines=True)\n",
    "off_df['Label'] = 3\n",
    "off_df = off_df[['reviewText','Label']]\n",
    "off_df.head()\n",
    "\n",
    "pet_df = pd.read_json('Pet_Supplies_5.json',lines=True)\n",
    "pet_df['Label'] = 4\n",
    "pet_df = pet_df[['reviewText','Label']]\n",
    "pet_df.head()"
   ]
  },
  {
   "cell_type": "code",
   "execution_count": 3,
   "id": "39629327",
   "metadata": {
    "ExecuteTime": {
     "end_time": "2023-01-21T16:32:32.417039Z",
     "start_time": "2023-01-21T16:32:31.903871Z"
    }
   },
   "outputs": [
    {
     "data": {
      "text/plain": [
       "(reviewText    198502\n",
       " Label         198502\n",
       " dtype: int64,\n",
       " reviewText    151254\n",
       " Label         151254\n",
       " dtype: int64,\n",
       " reviewText    551682\n",
       " Label         551682\n",
       " dtype: int64,\n",
       " reviewText    53258\n",
       " Label         53258\n",
       " dtype: int64,\n",
       " reviewText    157836\n",
       " Label         157836\n",
       " dtype: int64)"
      ]
     },
     "execution_count": 3,
     "metadata": {},
     "output_type": "execute_result"
    }
   ],
   "source": [
    "beauty_df.count(),groc_df.count(),home_df.count(),off_df.count(),pet_df.count()"
   ]
  },
  {
   "cell_type": "code",
   "execution_count": 4,
   "id": "2b6dcd02",
   "metadata": {
    "ExecuteTime": {
     "end_time": "2023-01-21T16:32:32.436044Z",
     "start_time": "2023-01-21T16:32:32.420247Z"
    }
   },
   "outputs": [],
   "source": [
    "beauty_df = beauty_df.head(53000)\n",
    "groc_df = groc_df.head(53000)\n",
    "home_df = home_df.head(53000)\n",
    "off_df = off_df.head(53000)\n",
    "pet_df = pet_df.head(53000)"
   ]
  },
  {
   "cell_type": "code",
   "execution_count": 5,
   "id": "bbce31b2",
   "metadata": {
    "ExecuteTime": {
     "end_time": "2023-01-21T16:32:32.854811Z",
     "start_time": "2023-01-21T16:32:32.441297Z"
    }
   },
   "outputs": [
    {
     "data": {
      "text/plain": [
       "reviewText    265000\n",
       "Label         265000\n",
       "dtype: int64"
      ]
     },
     "execution_count": 5,
     "metadata": {},
     "output_type": "execute_result"
    }
   ],
   "source": [
    "df = pd.concat([beauty_df,groc_df,home_df,off_df,pet_df])\n",
    "df.count()"
   ]
  },
  {
   "cell_type": "code",
   "execution_count": 6,
   "id": "6e020dc3",
   "metadata": {
    "ExecuteTime": {
     "end_time": "2023-01-21T16:32:33.741156Z",
     "start_time": "2023-01-21T16:32:32.857595Z"
    }
   },
   "outputs": [],
   "source": [
    "df = df.drop_duplicates()"
   ]
  },
  {
   "cell_type": "code",
   "execution_count": 7,
   "id": "13a3d6ef",
   "metadata": {
    "ExecuteTime": {
     "end_time": "2023-01-21T16:32:33.819346Z",
     "start_time": "2023-01-21T16:32:33.745352Z"
    }
   },
   "outputs": [
    {
     "data": {
      "text/plain": [
       "reviewText    264857\n",
       "Label         264857\n",
       "dtype: int64"
      ]
     },
     "execution_count": 7,
     "metadata": {},
     "output_type": "execute_result"
    }
   ],
   "source": [
    "df.count()"
   ]
  },
  {
   "cell_type": "code",
   "execution_count": 8,
   "id": "b55cfb23",
   "metadata": {
    "ExecuteTime": {
     "end_time": "2023-01-21T16:32:39.654205Z",
     "start_time": "2023-01-21T16:32:33.821928Z"
    }
   },
   "outputs": [],
   "source": [
    "df.to_csv('Merged_data.csv')"
   ]
  },
  {
   "cell_type": "code",
   "execution_count": null,
   "id": "8376b7c1",
   "metadata": {},
   "outputs": [],
   "source": []
  }
 ],
 "metadata": {
  "kernelspec": {
   "display_name": "Python 3 (ipykernel)",
   "language": "python",
   "name": "python3"
  },
  "language_info": {
   "codemirror_mode": {
    "name": "ipython",
    "version": 3
   },
   "file_extension": ".py",
   "mimetype": "text/x-python",
   "name": "python",
   "nbconvert_exporter": "python",
   "pygments_lexer": "ipython3",
   "version": "3.9.13"
  }
 },
 "nbformat": 4,
 "nbformat_minor": 5
}
