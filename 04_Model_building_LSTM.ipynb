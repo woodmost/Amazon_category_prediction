{
 "cells": [
  {
   "cell_type": "code",
   "execution_count": 1,
   "id": "be8b8f05",
   "metadata": {
    "ExecuteTime": {
     "end_time": "2023-01-22T05:45:24.021770Z",
     "start_time": "2023-01-22T05:43:55.169422Z"
    }
   },
   "outputs": [],
   "source": [
    "import warnings\n",
    "warnings.filterwarnings('ignore')\n",
    "\n",
    "import numpy as np\n",
    "import pandas as pd\n",
    "import tensorflow as ts\n",
    "import matplotlib.pyplot as plt\n",
    "import pickle\n",
    "\n",
    "from sklearn.model_selection import train_test_split\n",
    "\n",
    "from tensorflow.keras.preprocessing.text import Tokenizer\n",
    "from tensorflow.keras.preprocessing.sequence import pad_sequences\n",
    "from tensorflow.keras.models import Sequential\n",
    "from tensorflow.keras.layers import Dense,Embedding,LSTM,Bidirectional\n"
   ]
  },
  {
   "cell_type": "code",
   "execution_count": 2,
   "id": "885c83b4",
   "metadata": {
    "ExecuteTime": {
     "end_time": "2023-01-22T05:45:27.811063Z",
     "start_time": "2023-01-22T05:45:24.021770Z"
    }
   },
   "outputs": [
    {
     "data": {
      "text/html": [
       "<div>\n",
       "<style scoped>\n",
       "    .dataframe tbody tr th:only-of-type {\n",
       "        vertical-align: middle;\n",
       "    }\n",
       "\n",
       "    .dataframe tbody tr th {\n",
       "        vertical-align: top;\n",
       "    }\n",
       "\n",
       "    .dataframe thead th {\n",
       "        text-align: right;\n",
       "    }\n",
       "</style>\n",
       "<table border=\"1\" class=\"dataframe\">\n",
       "  <thead>\n",
       "    <tr style=\"text-align: right;\">\n",
       "      <th></th>\n",
       "      <th>clean_text</th>\n",
       "      <th>Label</th>\n",
       "    </tr>\n",
       "  </thead>\n",
       "  <tbody>\n",
       "    <tr>\n",
       "      <th>0</th>\n",
       "      <td>oily creamy expected ordered try highlight con...</td>\n",
       "      <td>0</td>\n",
       "    </tr>\n",
       "    <tr>\n",
       "      <th>1</th>\n",
       "      <td>palette decent price looking different shades ...</td>\n",
       "      <td>0</td>\n",
       "    </tr>\n",
       "    <tr>\n",
       "      <th>2</th>\n",
       "      <td>texture concealer pallet fantastic great cover...</td>\n",
       "      <td>0</td>\n",
       "    </tr>\n",
       "    <tr>\n",
       "      <th>3</th>\n",
       "      <td>really tell exactly thing powder kind oil ish ...</td>\n",
       "      <td>0</td>\n",
       "    </tr>\n",
       "    <tr>\n",
       "      <th>4</th>\n",
       "      <td>little smaller expected okay lasted long time ...</td>\n",
       "      <td>0</td>\n",
       "    </tr>\n",
       "  </tbody>\n",
       "</table>\n",
       "</div>"
      ],
      "text/plain": [
       "                                          clean_text  Label\n",
       "0  oily creamy expected ordered try highlight con...      0\n",
       "1  palette decent price looking different shades ...      0\n",
       "2  texture concealer pallet fantastic great cover...      0\n",
       "3  really tell exactly thing powder kind oil ish ...      0\n",
       "4  little smaller expected okay lasted long time ...      0"
      ]
     },
     "execution_count": 2,
     "metadata": {},
     "output_type": "execute_result"
    }
   ],
   "source": [
    "df = pd.read_csv('Clean_data.csv',index_col=0)\n",
    "df.head()"
   ]
  },
  {
   "cell_type": "code",
   "execution_count": 3,
   "id": "43c50f1d",
   "metadata": {
    "ExecuteTime": {
     "end_time": "2023-01-22T05:45:27.938534Z",
     "start_time": "2023-01-22T05:45:27.814673Z"
    }
   },
   "outputs": [],
   "source": [
    "df['clean_text'] = df['clean_text'].apply(lambda x : str(x))"
   ]
  },
  {
   "cell_type": "code",
   "execution_count": 4,
   "id": "a09d3454",
   "metadata": {
    "ExecuteTime": {
     "end_time": "2023-01-22T05:45:28.006288Z",
     "start_time": "2023-01-22T05:45:27.945026Z"
    }
   },
   "outputs": [],
   "source": [
    "x = df['clean_text']\n",
    "y = df['Label']"
   ]
  },
  {
   "cell_type": "code",
   "execution_count": 5,
   "id": "f2a3815a",
   "metadata": {
    "ExecuteTime": {
     "end_time": "2023-01-22T05:45:28.233656Z",
     "start_time": "2023-01-22T05:45:28.009285Z"
    }
   },
   "outputs": [],
   "source": [
    "x_train,x_test,y_train,y_test = train_test_split(x,y,test_size=0.2,random_state=5)"
   ]
  },
  {
   "cell_type": "markdown",
   "id": "70105e50",
   "metadata": {},
   "source": [
    "# Tokenization"
   ]
  },
  {
   "cell_type": "code",
   "execution_count": 6,
   "id": "8a66e04e",
   "metadata": {
    "ExecuteTime": {
     "end_time": "2023-01-22T05:45:28.338560Z",
     "start_time": "2023-01-22T05:45:28.236655Z"
    }
   },
   "outputs": [],
   "source": [
    "tok = Tokenizer(oov_token= '<unk>')"
   ]
  },
  {
   "cell_type": "code",
   "execution_count": 7,
   "id": "f98dddbd",
   "metadata": {
    "ExecuteTime": {
     "end_time": "2023-01-22T05:45:28.516953Z",
     "start_time": "2023-01-22T05:45:28.347550Z"
    }
   },
   "outputs": [],
   "source": [
    "#We fit only on training data and transform on testing data"
   ]
  },
  {
   "cell_type": "code",
   "execution_count": 8,
   "id": "adce74e3",
   "metadata": {
    "ExecuteTime": {
     "end_time": "2023-01-22T05:45:42.690214Z",
     "start_time": "2023-01-22T05:45:28.522442Z"
    }
   },
   "outputs": [],
   "source": [
    "#fitting on training data\n",
    "tok.fit_on_texts(x_train)"
   ]
  },
  {
   "cell_type": "code",
   "execution_count": 9,
   "id": "97cee12e",
   "metadata": {
    "ExecuteTime": {
     "end_time": "2023-01-22T05:45:42.716521Z",
     "start_time": "2023-01-22T05:45:42.694047Z"
    }
   },
   "outputs": [
    {
     "data": {
      "text/plain": [
       "99369"
      ]
     },
     "execution_count": 9,
     "metadata": {},
     "output_type": "execute_result"
    }
   ],
   "source": [
    "len(tok.word_index)"
   ]
  },
  {
   "cell_type": "code",
   "execution_count": 10,
   "id": "6c382893",
   "metadata": {
    "ExecuteTime": {
     "end_time": "2023-01-22T05:45:52.688293Z",
     "start_time": "2023-01-22T05:45:42.724499Z"
    }
   },
   "outputs": [],
   "source": [
    "train_sequences = tok.texts_to_sequences(x_train)\n",
    "test_sequences = tok.texts_to_sequences(x_test)"
   ]
  },
  {
   "cell_type": "code",
   "execution_count": 11,
   "id": "0e414ced",
   "metadata": {
    "ExecuteTime": {
     "end_time": "2023-01-22T05:45:52.840800Z",
     "start_time": "2023-01-22T05:45:52.688293Z"
    }
   },
   "outputs": [],
   "source": [
    "with open('filename.pickle','wb')as handle:\n",
    "    pickle.dump(tok,handle,protocol=pickle.HIGHEST_PROTOCOL)"
   ]
  },
  {
   "cell_type": "markdown",
   "id": "fd75d3eb",
   "metadata": {},
   "source": [
    "## Padding"
   ]
  },
  {
   "cell_type": "code",
   "execution_count": 12,
   "id": "1f87b221",
   "metadata": {
    "ExecuteTime": {
     "end_time": "2023-01-22T05:45:54.792665Z",
     "start_time": "2023-01-22T05:45:52.842892Z"
    }
   },
   "outputs": [
    {
     "data": {
      "text/plain": [
       "(array([77860., 78817., 41276., 23841., 14107.,  8816.,  5736.,  3758.,\n",
       "         2619.,  1945.]),\n",
       " array([  0.,  20.,  40.,  60.,  80., 100., 120., 140., 160., 180., 200.]),\n",
       " <BarContainer object of 10 artists>)"
      ]
     },
     "execution_count": 12,
     "metadata": {},
     "output_type": "execute_result"
    },
    {
     "data": {
      "image/png": "[encoded data removed]",
      "text/plain": [
       "<Figure size 640x480 with 1 Axes>"
      ]
     },
     "metadata": {},
     "output_type": "display_data"
    }
   ],
   "source": [
    "plt.hist(df['clean_text'].apply(lambda x : len(x.split())),range = (0,200))"
   ]
  },
  {
   "cell_type": "code",
   "execution_count": 13,
   "id": "4b646ae2",
   "metadata": {
    "ExecuteTime": {
     "end_time": "2023-01-22T05:45:57.432933Z",
     "start_time": "2023-01-22T05:45:54.796340Z"
    }
   },
   "outputs": [],
   "source": [
    "x_train = pad_sequences(train_sequences,maxlen=100,padding='pre',truncating='pre')\n",
    "x_test = pad_sequences(test_sequences,maxlen=100,padding='pre',truncating='pre')"
   ]
  },
  {
   "cell_type": "markdown",
   "id": "55b9ae0c",
   "metadata": {},
   "source": [
    "# Model building"
   ]
  },
  {
   "cell_type": "code",
   "execution_count": 14,
   "id": "e6f3f45f",
   "metadata": {
    "ExecuteTime": {
     "end_time": "2023-01-22T05:46:02.035054Z",
     "start_time": "2023-01-22T05:45:57.432933Z"
    }
   },
   "outputs": [],
   "source": [
    "model = Sequential([\n",
    "    Embedding(99370,300),\n",
    "    Bidirectional(LSTM(128)),\n",
    "    Dense(100,activation='relu'),\n",
    "    Dense(6,activation='softmax')    \n",
    "])"
   ]
  },
  {
   "cell_type": "code",
   "execution_count": 15,
   "id": "d4ee7ace",
   "metadata": {
    "ExecuteTime": {
     "end_time": "2023-01-22T05:46:02.091725Z",
     "start_time": "2023-01-22T05:46:02.035054Z"
    }
   },
   "outputs": [
    {
     "name": "stdout",
     "output_type": "stream",
     "text": [
      "Model: \"sequential\"\n",
      "_________________________________________________________________\n",
      " Layer (type)                Output Shape              Param #   \n",
      "=================================================================\n",
      " embedding (Embedding)       (None, None, 300)         29811000  \n",
      "                                                                 \n",
      " bidirectional (Bidirectiona  (None, 256)              439296    \n",
      " l)                                                              \n",
      "                                                                 \n",
      " dense (Dense)               (None, 100)               25700     \n",
      "                                                                 \n",
      " dense_1 (Dense)             (None, 6)                 606       \n",
      "                                                                 \n",
      "=================================================================\n",
      "Total params: 30,276,602\n",
      "Trainable params: 30,276,602\n",
      "Non-trainable params: 0\n",
      "_________________________________________________________________\n"
     ]
    }
   ],
   "source": [
    "model.summary()"
   ]
  },
  {
   "cell_type": "code",
   "execution_count": 16,
   "id": "5644a7a0",
   "metadata": {
    "ExecuteTime": {
     "end_time": "2023-01-22T05:46:02.424522Z",
     "start_time": "2023-01-22T05:46:02.099710Z"
    }
   },
   "outputs": [],
   "source": [
    "model.compile(optimizer='adam',loss='SparseCategoricalCrossentropy',metrics=['accuracy'])"
   ]
  },
  {
   "cell_type": "code",
   "execution_count": 17,
   "id": "69a807eb",
   "metadata": {
    "ExecuteTime": {
     "end_time": "2023-01-22T09:54:54.253430Z",
     "start_time": "2023-01-22T05:46:02.428514Z"
    }
   },
   "outputs": [
    {
     "name": "stdout",
     "output_type": "stream",
     "text": [
      "Epoch 1/10\n",
      "424/424 [==============================] - 1509s 4s/step - loss: 0.3179 - accuracy: 0.8852 - val_loss: 0.1742 - val_accuracy: 0.9443\n",
      "Epoch 2/10\n",
      "424/424 [==============================] - 1484s 4s/step - loss: 0.1135 - accuracy: 0.9639 - val_loss: 0.1529 - val_accuracy: 0.9514\n",
      "Epoch 3/10\n",
      "424/424 [==============================] - 1494s 4s/step - loss: 0.0834 - accuracy: 0.9733 - val_loss: 0.1625 - val_accuracy: 0.9488\n",
      "Epoch 4/10\n",
      "424/424 [==============================] - 1492s 4s/step - loss: 0.0677 - accuracy: 0.9780 - val_loss: 0.1805 - val_accuracy: 0.9465\n",
      "Epoch 5/10\n",
      "424/424 [==============================] - 1492s 4s/step - loss: 0.0556 - accuracy: 0.9817 - val_loss: 0.1951 - val_accuracy: 0.9460\n",
      "Epoch 6/10\n",
      "424/424 [==============================] - 1493s 4s/step - loss: 0.0490 - accuracy: 0.9837 - val_loss: 0.1983 - val_accuracy: 0.9456\n",
      "Epoch 7/10\n",
      "424/424 [==============================] - 1488s 4s/step - loss: 0.0397 - accuracy: 0.9871 - val_loss: 0.2242 - val_accuracy: 0.9443\n",
      "Epoch 8/10\n",
      "424/424 [==============================] - 1492s 4s/step - loss: 0.0369 - accuracy: 0.9878 - val_loss: 0.2308 - val_accuracy: 0.9433\n",
      "Epoch 9/10\n",
      "424/424 [==============================] - 1495s 4s/step - loss: 0.0303 - accuracy: 0.9900 - val_loss: 0.2475 - val_accuracy: 0.9439\n",
      "Epoch 10/10\n",
      "424/424 [==============================] - 1490s 4s/step - loss: 0.0247 - accuracy: 0.9920 - val_loss: 0.2634 - val_accuracy: 0.9430\n"
     ]
    }
   ],
   "source": [
    "history = model.fit(x_train,y_train,batch_size=500,epochs=10,validation_data=(x_test,y_test))"
   ]
  },
  {
   "cell_type": "code",
   "execution_count": 18,
   "id": "6bd3be10",
   "metadata": {
    "ExecuteTime": {
     "end_time": "2023-01-22T09:54:54.739447Z",
     "start_time": "2023-01-22T09:54:54.265112Z"
    }
   },
   "outputs": [
    {
     "data": {
      "text/plain": [
       "<matplotlib.legend.Legend at 0x230219bdee0>"
      ]
     },
     "execution_count": 18,
     "metadata": {},
     "output_type": "execute_result"
    },
    {
     "data": {
      "image/png": "[encoded data removed]",
      "text/plain": [
       "<Figure size 640x480 with 1 Axes>"
      ]
     },
     "metadata": {},
     "output_type": "display_data"
    }
   ],
   "source": [
    "plt.plot(history.history['loss'])\n",
    "plt.plot(history.history['val_loss'])\n",
    "plt.xlabel('Epochs')\n",
    "plt.ylabel('loss')\n",
    "plt.title('loss Plot')\n",
    "plt.legend(['train','test'])"
   ]
  },
  {
   "cell_type": "code",
   "execution_count": 19,
   "id": "d6ac275d",
   "metadata": {
    "ExecuteTime": {
     "end_time": "2023-01-22T09:54:55.004299Z",
     "start_time": "2023-01-22T09:54:54.743399Z"
    }
   },
   "outputs": [
    {
     "data": {
      "text/plain": [
       "<matplotlib.legend.Legend at 0x2301f4bcbe0>"
      ]
     },
     "execution_count": 19,
     "metadata": {},
     "output_type": "execute_result"
    },
    {
     "data": {
      "image/png": "[encoded data removed]",
      "text/plain": [
       "<Figure size 640x480 with 1 Axes>"
      ]
     },
     "metadata": {},
     "output_type": "display_data"
    }
   ],
   "source": [
    "plt.plot(history.history['accuracy'])\n",
    "plt.plot(history.history['val_accuracy'])\n",
    "plt.xlabel('Epochs')\n",
    "plt.ylabel('accuracy')\n",
    "plt.title('accuracy Plot')\n",
    "plt.legend(['train','test'])"
   ]
  },
  {
   "cell_type": "code",
   "execution_count": null,
   "id": "c08aa58c",
   "metadata": {},
   "outputs": [],
   "source": []
  }
 ],
 "metadata": {
  "kernelspec": {
   "display_name": "Python 3 (ipykernel)",
   "language": "python",
   "name": "python3"
  },
  "language_info": {
   "codemirror_mode": {
    "name": "ipython",
    "version": 3
   },
   "file_extension": ".py",
   "mimetype": "text/x-python",
   "name": "python",
   "nbconvert_exporter": "python",
   "pygments_lexer": "ipython3",
   "version": "3.9.13"
  }
 },
 "nbformat": 4,
 "nbformat_minor": 5
}
